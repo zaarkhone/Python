{
 "cells": [
  {
   "cell_type": "code",
   "execution_count": 7,
   "metadata": {},
   "outputs": [
    {
     "name": "stdout",
     "output_type": "stream",
     "text": [
      "Hello from a function\n"
     ]
    }
   ],
   "source": [
    "#Create a function named my_function.\n",
    "\n",
    "\n",
    "def my_function() :\n",
    "     print(\"Hello from a function\")\n",
    "        \n",
    "my_function()\n",
    "        "
   ]
  },
  {
   "cell_type": "code",
   "execution_count": 8,
   "metadata": {},
   "outputs": [
    {
     "name": "stdout",
     "output_type": "stream",
     "text": [
      "Hello from a function\n"
     ]
    }
   ],
   "source": [
    "#Execute a function named my_function.\n",
    "\n",
    "\n",
    "def my_function():\n",
    "    print(\"Hello from a function\")\n",
    "my_function()"
   ]
  },
  {
   "cell_type": "code",
   "execution_count": 13,
   "metadata": {},
   "outputs": [
    {
     "name": "stdout",
     "output_type": "stream",
     "text": [
      "my first name is akib and last name is khan\n"
     ]
    }
   ],
   "source": [
    "#Inside a function with two parameters, print the first parameter.\n",
    "\n",
    "\n",
    "def my_function(fname, lname):\n",
    "    print(\"my first name is {0} and last name is {1}\" .format(fname, lname))\n",
    "    \n",
    "my_function(\"akib\",\"khan\")"
   ]
  },
  {
   "cell_type": "markdown",
   "metadata": {},
   "source": [
    "# doubt"
   ]
  },
  {
   "cell_type": "code",
   "execution_count": 35,
   "metadata": {},
   "outputs": [],
   "source": [
    "#Let the function return the x parameter + 5.\n",
    "\n",
    "\n",
    "def my_function(x):\n",
    "    \n",
    "    return x+5\n",
    "\n"
   ]
  },
  {
   "cell_type": "code",
   "execution_count": 38,
   "metadata": {},
   "outputs": [],
   "source": [
    "#If you do not know the number of arguments that will be passed into your function, there is a prefix you can add in the function definition, which prefix?\n",
    "\n",
    "\n",
    "def my_function(*kids):\n",
    "  print(\"The youngest child is \" + kids[2])"
   ]
  },
  {
   "cell_type": "code",
   "execution_count": null,
   "metadata": {},
   "outputs": [],
   "source": [
    "#If you do not know the number of keyword arguments that will be passed into your function, there is a prefix you can add in the function definition, which prefix?\n",
    "\n",
    "\n",
    "def my_function(kid):\n",
    "    print(\"His last name is \" + kid[\"lname\"]"
   ]
  }
 ],
 "metadata": {
  "kernelspec": {
   "display_name": "Python 3",
   "language": "python",
   "name": "python3"
  },
  "language_info": {
   "codemirror_mode": {
    "name": "ipython",
    "version": 3
   },
   "file_extension": ".py",
   "mimetype": "text/x-python",
   "name": "python",
   "nbconvert_exporter": "python",
   "pygments_lexer": "ipython3",
   "version": "3.8.5"
  }
 },
 "nbformat": 4,
 "nbformat_minor": 4
}
